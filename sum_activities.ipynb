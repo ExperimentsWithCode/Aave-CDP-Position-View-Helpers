{
 "cells": [
  {
   "cell_type": "code",
   "execution_count": 1,
   "metadata": {},
   "outputs": [],
   "source": [
    "import csv\n",
    "import os\n",
    "import json\n",
    "import pandas as pd\n",
    "import plotly.express as px\n",
    "import numpy as np"
   ]
  },
  {
   "cell_type": "code",
   "execution_count": 26,
   "metadata": {},
   "outputs": [],
   "source": [
    "from app.flipside.models import Flipside\n",
    "from app.constants import (oracle_feeds_lookup, \n",
    "    oracle_feeds, \n",
    "    phase_windows, \n",
    "    liquidators, \n",
    "    attackers, \n",
    "    targets, \n",
    "    filenames_filtered, \n",
    "    filenames)"
   ]
  },
  {
   "cell_type": "code",
   "execution_count": 5,
   "metadata": {},
   "outputs": [],
   "source": [
    "phase_windows = [\n",
    "# [14053849, 14424164], # Michael Initial\n",
    "    [14424164, 15962578, 'Phase: Michael Ramp Up', 'blue'], # Michael Ramp Up\n",
    "    [15962578, 16025860, 'Avi Setup', 'grey'], # Avi Setup\n",
    "    [16025860, 16025896, 'Avi Liquidation 1', 'red'], # Avi Liquidation 1\n",
    "    [16025896,16027007, 'Between Liquidations', \"\"],  # Jockeying\n",
    "    [16027007, 16027236, 'Avi Liquidation 2', 'red'], # Avi Liquidation 2\n",
    "] "
   ]
  },
  {
   "attachments": {},
   "cell_type": "markdown",
   "metadata": {},
   "source": [
    "## Variables"
   ]
  },
  {
   "cell_type": "code",
   "execution_count": 127,
   "metadata": {},
   "outputs": [],
   "source": [
    "start = 15962578 -10\n",
    "end = phase_windows[4][1]\n",
    "title = f\"{phase_windows[1][2]} - {phase_windows[2][2]}\""
   ]
  },
  {
   "cell_type": "code",
   "execution_count": 128,
   "metadata": {},
   "outputs": [],
   "source": [
    "address = '0x57e04786e231af3343562c062e0d058f25dace9e'\n",
    "end = 16027236"
   ]
  },
  {
   "attachments": {},
   "cell_type": "markdown",
   "metadata": {},
   "source": [
    "## Utility"
   ]
  },
  {
   "cell_type": "code",
   "execution_count": 119,
   "metadata": {},
   "outputs": [],
   "source": [
    "\n",
    "def apply_window(df, window_start=start, window_end=end):\n",
    "    return df.loc[\n",
    "        (df[\"BLOCK_NUMBER\"] > window_start) & \n",
    "        (df[\"BLOCK_NUMBER\"] < window_end)\n",
    "    ]\n",
    "\n",
    "def chart_it(title, df, x, y, color, facet_col=\"SYMBOL\"):\n",
    "    fig = px.scatter(df, \n",
    "                     x=x,\n",
    "                     y=y,\n",
    "                     color=color,\n",
    "                    title=title,\n",
    "                    facet_col=facet_col,\n",
    ")\n",
    "    fig.update_layout(autotypenumbers='convert types')\n",
    "    fig.show()\n",
    "\n",
    "def fig_append_phase_labels(fig, start = None, end=None):\n",
    "    for window in phase_windows:\n",
    "        if window[0]>= start and window[1]<= end and window[3] != \"\":\n",
    "            fig.add_vrect(x0=window[0], x1=window[1], \n",
    "                        annotation_text=window[2], annotation_position=\"top left\",\n",
    "                        fillcolor=window[3], opacity=0.25, line_width=0)\n",
    "    return fig"
   ]
  },
  {
   "cell_type": "code",
   "execution_count": 120,
   "metadata": {},
   "outputs": [],
   "source": [
    "def process(fs, address, start, end):\n",
    "    sums = {}\n",
    "    # Deposits\n",
    "    df = fs.dataframes['aave_deposits']\n",
    "    \n",
    "    deposits = df\n",
    "    deposits = deposits[deposits['DEPOSITOR_ADDRESS']== address]\n",
    "    deposits = deposits[deposits['SYMBOL']== 'CRV']\n",
    "    deposits.keys()\n",
    "    df_filtered = apply_window(deposits, 14053849, end)\n",
    "    out = df_filtered.groupby([\"DEPOSITOR_ADDRESS\", \"SYMBOL\"]).ISSUED_TOKENS.sum().reset_index()\n",
    "    try:\n",
    "        # print(float(out.ISSUED_TOKENS))\n",
    "        sums['deposit'] = float(out.ISSUED_TOKENS)\n",
    "    except:\n",
    "        # print(None)\n",
    "        sums['deposit'] = float(0)\n",
    "\n",
    "    # Withdraws\n",
    "    df = fs.dataframes['aave_withdraws']\n",
    "\n",
    "    deposits = df\n",
    "    deposits = deposits[deposits['DEPOSITOR_ADDRESS']== address]\n",
    "    deposits = deposits[deposits['SYMBOL']== 'CRV']\n",
    "    deposits.keys()\n",
    "    df_filtered = apply_window(deposits, 14053849, end)\n",
    "    out = df_filtered.groupby([\"DEPOSITOR_ADDRESS\", \"SYMBOL\"]).WITHDRAWN_TOKENS.sum().reset_index()\n",
    "    try: \n",
    "        # print(float(out.WITHDRAWN_TOKENS))\n",
    "        sums['withdrawn'] = float(out.WITHDRAWN_TOKENS)\n",
    "    except:\n",
    "        # print(None)\n",
    "        sums['withdrawn'] = float(0)\n",
    "\n",
    "    # Borrows\n",
    "    df = fs.dataframes['aave_borrows']\n",
    "\n",
    "    deposits = df\n",
    "    deposits = deposits[deposits['BORROWER_ADDRESS']== address]\n",
    "    deposits = deposits[deposits['SYMBOL']== 'CRV']\n",
    "    deposits.keys()\n",
    "    df_filtered = apply_window(deposits, 14053849, end)\n",
    "    out = df_filtered.groupby([\"BORROWER_ADDRESS\", \"SYMBOL\"]).BORROWED_TOKENS.sum().reset_index()\n",
    "    try:\n",
    "        # print(float(out.BORROWED_TOKENS))\n",
    "        sums['borrowed'] = float(out.BORROWED_TOKENS)\n",
    "\n",
    "    except:\n",
    "        # print(None)\n",
    "        sums['borrowed'] = float(0)\n",
    "\n",
    "    # Repayed\n",
    "    df = fs.dataframes['aave_repayments']\n",
    "\n",
    "    deposits = df\n",
    "    deposits = deposits[deposits['BORROWER']== address]\n",
    "    deposits = deposits[deposits['SYMBOL']== 'CRV']\n",
    "    deposits.keys()\n",
    "    df_filtered = apply_window(deposits, 14053849, end)\n",
    "    out = df_filtered.groupby([\"BORROWER\", \"SYMBOL\"]).REPAYED_TOKENS.sum().reset_index()\n",
    "    try:\n",
    "        # print(float(out.REPAYED_TOKENS))\n",
    "        sums['repayed'] = float(out.REPAYED_TOKENS)\n",
    "    except:\n",
    "        # print(None)\n",
    "        sums['repayed'] = float(0)\n",
    "\n",
    "\n",
    "    # Liquidatied Debt\n",
    "    df = fs.dataframes['aave_liquidations']\n",
    "\n",
    "    deposits = df\n",
    "    deposits = deposits[deposits['BORROWER']== address]\n",
    "    deposits = deposits[deposits['DEBT_TOKEN_SYMBOL']== 'CRV']\n",
    "    deposits.keys()\n",
    "    df_filtered = apply_window(deposits, 14053849, end)\n",
    "    out = df_filtered.groupby([\"BORROWER\", \"DEBT_TOKEN_SYMBOL\"]).DEBT_TO_COVER_AMOUNT.sum().reset_index()\n",
    "    try:\n",
    "        # print(float(out.DEBT_TO_COVER_AMOUNT))\n",
    "        sums['liquidated_debt'] = float(out.DEBT_TO_COVER_AMOUNT)\n",
    "    except:\n",
    "        # print(None)\n",
    "        sums['liquidated_debt'] = float(0)\n",
    "    \n",
    "    return sums"
   ]
  },
  {
   "attachments": {},
   "cell_type": "markdown",
   "metadata": {},
   "source": [
    "# Run"
   ]
  },
  {
   "cell_type": "code",
   "execution_count": 121,
   "metadata": {},
   "outputs": [
    {
     "name": "stdout",
     "output_type": "stream",
     "text": [
      "Loading...\n",
      "v2_deposits_actors\n",
      "v2_borrows_actors\n",
      "v2_liquidations_actors\n",
      "v2_repayments_actors\n",
      "v2_withdraws_actors\n",
      "crv_transfers-download-2022-12-12-01-35-pm-results\n",
      "stkaave_transfers-download-2022-12-12-01-35-pm-results\n",
      "stkabpt_transfers-download-2022-12-12-01-35-pm-results\n",
      "chainlink_all_oracle_results\n",
      "aave_liquidations\n",
      "['BLOCK_NUMBER', 'LIQUIDATED_AMOUNT', 'LIQUIDATED_AMOUNT_USD', 'COLLATERAL_TOKEN_PRICE', 'DEBT_TO_COVER_AMOUNT', 'DEBT_TO_COVER_AMOUNT_USD', 'DEBT_TOKEN_PRICE']\n",
      "BLOCK_NUMBER\n",
      "LIQUIDATED_AMOUNT\n",
      "LIQUIDATED_AMOUNT_USD\n",
      "COLLATERAL_TOKEN_PRICE\n",
      "DEBT_TO_COVER_AMOUNT\n",
      "DEBT_TO_COVER_AMOUNT_USD\n",
      "DEBT_TOKEN_PRICE\n",
      "aave_borrows\n",
      "['BLOCK_NUMBER', 'BORROWED_TOKENS', 'BORROWED_USD', 'TOKEN_PRICE']\n",
      "BLOCK_NUMBER\n",
      "BORROWED_TOKENS\n",
      "BORROWED_USD\n",
      "TOKEN_PRICE\n",
      "aave_repayments\n",
      "['BLOCK_NUMBER', 'REPAYED_TOKENS', 'REPAYED_USD', 'TOKEN_PRICE']\n",
      "BLOCK_NUMBER\n",
      "REPAYED_TOKENS\n",
      "REPAYED_USD\n",
      "TOKEN_PRICE\n",
      "aave_withdraws\n",
      "['BLOCK_NUMBER', 'WITHDRAWN_USD', 'WITHDRAWN_TOKENS', 'TOKEN_PRICE']\n",
      "BLOCK_NUMBER\n",
      "WITHDRAWN_USD\n",
      "WITHDRAWN_TOKENS\n",
      "TOKEN_PRICE\n",
      "aave_deposits\n",
      "['BLOCK_NUMBER', 'ISSUED_TOKENS', 'SUPPLIED_USD', 'TOKEN_PRICE']\n",
      "BLOCK_NUMBER\n",
      "ISSUED_TOKENS\n",
      "SUPPLIED_USD\n",
      "TOKEN_PRICE\n",
      "oracles\n",
      "['BLOCK_NUMBER', 'LATEST_ANSWER_UNADJ', 'LATEST_ANSWER_ADJ']\n",
      "BLOCK_NUMBER\n",
      "LATEST_ANSWER_UNADJ\n",
      "LATEST_ANSWER_ADJ\n",
      "swaps\n"
     ]
    }
   ],
   "source": [
    "fs = Flipside(filenames_filtered)"
   ]
  },
  {
   "cell_type": "code",
   "execution_count": 129,
   "metadata": {},
   "outputs": [
    {
     "data": {
      "text/plain": [
       "{'deposit': 0.0,\n",
       " 'withdrawn': 0.0,\n",
       " 'borrowed': 92000000.0,\n",
       " 'repayed': 0.0,\n",
       " 'liquidated_debt': 0.0}"
      ]
     },
     "execution_count": 129,
     "metadata": {},
     "output_type": "execute_result"
    }
   ],
   "source": [
    "process(fs, address, start, 16025860)"
   ]
  },
  {
   "cell_type": "code",
   "execution_count": 123,
   "metadata": {},
   "outputs": [
    {
     "data": {
      "text/plain": [
       "503621289.746133"
      ]
     },
     "execution_count": 123,
     "metadata": {},
     "output_type": "execute_result"
    }
   ],
   "source": [
    "michael = {\n",
    "14710000:\n",
    " {'deposit': 8400000.0,\n",
    " 'withdrawn': 0.0,\n",
    " 'borrowed': 0.0,\n",
    " 'repayed': 0.0,\n",
    " 'liquidated_debt': 0.0\n",
    " },\n",
    "\n",
    "15100000:\n",
    " {'deposit': 152518808.9776234,\n",
    " 'withdrawn': 23900000.0,\n",
    " 'borrowed': 0.0,\n",
    " 'repayed': 0.0,\n",
    " 'liquidated_debt': 0.0\n",
    " },\n",
    "\n",
    "15900000:\n",
    " {'deposit': 155518808.9776234,\n",
    " 'withdrawn': 23900000.0,\n",
    " 'borrowed': 0.0,\n",
    " 'repayed': 0.0,\n",
    " 'liquidated_debt': 0.0\n",
    " },\n",
    "\n",
    "15962578:\n",
    " {'deposit': 215963568.4168177,\n",
    " 'withdrawn': 42900000.0,\n",
    " 'borrowed': 0.0,\n",
    " 'repayed': 0.0,\n",
    " 'liquidated_debt': 0.0\n",
    " },\n",
    " 16025860:\n",
    " {'deposit': 361963568.41681767,\n",
    " 'withdrawn': 228900000.0,\n",
    " 'borrowed': 0.0,\n",
    " 'repayed': 0.0,\n",
    " 'liquidated_debt': 0.0}\n",
    "}\n",
    "\n",
    "\n",
    "\n",
    "503621289.746133"
   ]
  },
  {
   "cell_type": "code",
   "execution_count": 109,
   "metadata": {},
   "outputs": [
    {
     "name": "stdout",
     "output_type": "stream",
     "text": [
      "[8400000.0, 128618808.9776234, 131618808.9776234, 173063568.4168177, 133063568.41681767]\n",
      "1 / 4 \n",
      "\t0.04853707846684917 | 164663568.4168177\n",
      "2 / 4 \n",
      "\t0.7431882409118561 | 44444759.43919429\n",
      "3 / 4 \n",
      "\t0.7605229117928737 | 41444759.43919429\n",
      "1 / 4 \n",
      "\t0.0638206656423102 | 123218808.9776234\n",
      "2 / 4 \n",
      "\t0.9772069051277463 | 3000000.0\n",
      "3 / 4 \n",
      "\t1.3148847779517618 | -41444759.43919429\n"
     ]
    }
   ],
   "source": [
    "data = []\n",
    "for r in michael:\n",
    "    data.append(michael[r]['deposit'] -michael[r]['withdrawn'])\n",
    "print(data)\n",
    "\n",
    "print(f\"1 / 4 \\n\\t{data[0]/data[3]} | {data[3] - data[0]}\")\n",
    "print(f\"2 / 4 \\n\\t{data[1]/data[3]} | {data[3] - data[1]}\")\n",
    "print(f\"3 / 4 \\n\\t{data[2]/data[3]} | {data[3] - data[2]}\")\n",
    "\n",
    "\n",
    "comparator = 2\n",
    "\n",
    "print(f\"1 / 4 \\n\\t{data[0]/data[comparator]} | {data[comparator] - data[0]}\")\n",
    "print(f\"2 / 4 \\n\\t{data[1]/data[comparator]} | {data[comparator] - data[1]}\")\n",
    "print(f\"3 / 4 \\n\\t{data[3]/data[comparator]} | {data[comparator] - data[3]}\")"
   ]
  },
  {
   "cell_type": "code",
   "execution_count": 124,
   "metadata": {},
   "outputs": [
    {
     "name": "stdout",
     "output_type": "stream",
     "text": [
      "3 / 4 \n",
      "\t1.3006082015980605 | -40000000.00000003\n"
     ]
    }
   ],
   "source": [
    "print(f\"3 / 4 \\n\\t{data[3]/data[4]} | {data[4] - data[3]}\")"
   ]
  },
  {
   "cell_type": "code",
   "execution_count": 125,
   "metadata": {},
   "outputs": [
    {
     "name": "stdout",
     "output_type": "stream",
     "text": [
      "0.5315965736845385\n",
      "0.6913988636755385\n"
     ]
    },
    {
     "data": {
      "text/plain": [
       "0.8671895736845385"
      ]
     },
     "execution_count": 125,
     "metadata": {},
     "output_type": "execute_result"
    }
   ],
   "source": [
    "print(92000000 /173063568.4168177) # % borrowed \n",
    "print(92000000 / 133063568.41681767) # % borrowed by 1st liquidation\n",
    "0.335593 + 0.5315965736845385 # % utilized"
   ]
  },
  {
   "cell_type": "code",
   "execution_count": 117,
   "metadata": {},
   "outputs": [],
   "source": [
    "# df = fs.dataframes['aave_deposits']\n",
    "# print(len(df))\n",
    "# df_filtered = apply_window(df, start, 14740122)\n",
    "# crv_deposits = df_filtered[df_filtered['SYMBOL']== 'CRV']\n",
    "# crv_deposits[['BLOCK_NUMBER', 'ISSUED_TOKENS']].tail(10)"
   ]
  }
 ],
 "metadata": {
  "kernelspec": {
   "display_name": "cadcad-edu",
   "language": "python",
   "name": "python3"
  },
  "language_info": {
   "codemirror_mode": {
    "name": "ipython",
    "version": 3
   },
   "file_extension": ".py",
   "mimetype": "text/x-python",
   "name": "python",
   "nbconvert_exporter": "python",
   "pygments_lexer": "ipython3",
   "version": "3.8.13"
  },
  "orig_nbformat": 4,
  "vscode": {
   "interpreter": {
    "hash": "c63191c8cb157b7e69336ac914ab189c2c1d5a0eae803b6bc584b8793b3c65d6"
   }
  }
 },
 "nbformat": 4,
 "nbformat_minor": 2
}
