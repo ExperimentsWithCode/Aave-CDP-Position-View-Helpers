{
 "cells": [
  {
   "cell_type": "code",
   "execution_count": 1,
   "metadata": {},
   "outputs": [],
   "source": [
    "import csv\n",
    "import os\n",
    "import json\n",
    "import pandas as pd\n",
    "import plotly.express as px\n",
    "import numpy as np"
   ]
  },
  {
   "cell_type": "code",
   "execution_count": 2,
   "metadata": {},
   "outputs": [],
   "source": [
    "from app.flipside.models import Flipside\n",
    "from app.constants import oracle_feeds_lookup, oracle_feeds, phase_windows, filenames_filtered, timestamp_windows"
   ]
  },
  {
   "cell_type": "code",
   "execution_count": 3,
   "metadata": {},
   "outputs": [],
   "source": [
    "from app.visuals.plotly_helper import combined_action_layout, combined_action_layout_time"
   ]
  },
  {
   "cell_type": "code",
   "execution_count": null,
   "metadata": {},
   "outputs": [],
   "source": []
  },
  {
   "cell_type": "markdown",
   "metadata": {},
   "source": []
  },
  {
   "cell_type": "code",
   "execution_count": 4,
   "metadata": {},
   "outputs": [],
   "source": [
    "\n",
    "def fig_append_phase_labels(fig, start = None, end=None):\n",
    "    for window in phase_windows:\n",
    "        if window[0]>= start and window[1]<= end and window[3] != \"\":\n",
    "            fig.add_vrect(x0=window[0], x1=window[1], \n",
    "                        annotation_text=window[2], annotation_position=\"top left\",\n",
    "                        fillcolor=window[3], opacity=0.25, line_width=0)\n",
    "    return fig"
   ]
  },
  {
   "cell_type": "code",
   "execution_count": null,
   "metadata": {},
   "outputs": [],
   "source": [
    "fs = Flipside(filenames_filtered)"
   ]
  },
  {
   "cell_type": "code",
   "execution_count": 6,
   "metadata": {},
   "outputs": [],
   "source": [
    "def process_layout(target_address, window_start, window_end, title, tokens=True):\n",
    "    deposits = fs.dataframes['aave_deposits']\n",
    "    withdraws = fs.dataframes['aave_withdraws']\n",
    "    borrows = fs.dataframes['aave_borrows']\n",
    "    repayments = fs.dataframes['aave_repayments']\n",
    "    liquidations = fs.dataframes['aave_liquidations']\n",
    "\n",
    "    deposits = deposits[deposits['depositor_address']== target_address]\n",
    "    withdraws = withdraws[withdraws['depositor_address']== target_address]\n",
    "    borrows = borrows[borrows['borrower_address']== target_address]\n",
    "    repayments = repayments[repayments['borrower']== target_address]\n",
    "    liquidations = liquidations[liquidations['borrower']== target_address]\n",
    "\n",
    "    deposits = fs.apply_window_df(deposits, window_start, window_end)\n",
    "    withdraws = fs.apply_window_df(withdraws, window_start, window_end)\n",
    "    borrows = fs.apply_window_df(borrows, window_start, window_end)\n",
    "    repayments = fs.apply_window_df(repayments, window_start, window_end)\n",
    "    liquidations = fs.apply_window_df(liquidations, window_start, window_end)\n",
    "\n",
    "    combined_action_layout(title, \n",
    "                        deposits, withdraws, \n",
    "                        borrows, repayments, \n",
    "                        liquidations,\n",
    "                        tokens,\n",
    "                        # phase_windows, \n",
    "                        # window_start, window_end\n",
    "                        )\n",
    "\n"
   ]
  },
  {
   "cell_type": "code",
   "execution_count": 7,
   "metadata": {},
   "outputs": [],
   "source": [
    "def process_layout_time(target_address, window_start, window_end, title, tokens=True):\n",
    "    deposits = fs.dataframes['aave_deposits']\n",
    "    withdraws = fs.dataframes['aave_withdraws']\n",
    "    borrows = fs.dataframes['aave_borrows']\n",
    "    repayments = fs.dataframes['aave_repayments']\n",
    "    liquidations = fs.dataframes['aave_liquidations']\n",
    "\n",
    "    deposits = deposits[deposits['depositor_address']== target_address]\n",
    "    withdraws = withdraws[withdraws['depositor_address']== target_address]\n",
    "    borrows = borrows[borrows['borrower_address']== target_address]\n",
    "    repayments = repayments[repayments['borrower']== target_address]\n",
    "    liquidations = liquidations[liquidations['borrower']== target_address]\n",
    "\n",
    "\n",
    "    deposits = fs.apply_window_df(deposits, window_start, window_end)\n",
    "    withdraws = fs.apply_window_df(withdraws, window_start, window_end)\n",
    "    borrows = fs.apply_window_df(borrows, window_start, window_end)\n",
    "    repayments = fs.apply_window_df(repayments, window_start, window_end)\n",
    "    liquidations = fs.apply_window_df(liquidations, window_start, window_end)\n",
    "\n",
    "    combined_action_layout_time(title, \n",
    "                        deposits, withdraws, \n",
    "                        borrows, repayments, \n",
    "                        liquidations,\n",
    "                        tokens,\n",
    "                        # phase_windows, \n",
    "                        # window_start, window_end\n",
    "                        )\n"
   ]
  },
  {
   "attachments": {},
   "cell_type": "markdown",
   "metadata": {},
   "source": [
    "# Quick View"
   ]
  },
  {
   "attachments": {},
   "cell_type": "markdown",
   "metadata": {},
   "source": [
    "## AVI"
   ]
  },
  {
   "cell_type": "code",
   "execution_count": 8,
   "metadata": {},
   "outputs": [],
   "source": [
    "target_address = '0x57e04786e231af3343562c062e0d058f25dace9e'\n",
    "window_start = 15962578 - 7*(7200)\n",
    "window_end = 16027236 + 10\n",
    "\n",
    "title = \"Avi\""
   ]
  },
  {
   "cell_type": "code",
   "execution_count": null,
   "metadata": {},
   "outputs": [],
   "source": []
  },
  {
   "cell_type": "code",
   "execution_count": null,
   "metadata": {},
   "outputs": [],
   "source": [
    "process_layout(target_address, window_start, window_end, title)\n",
    "# fig = fig_append_phase_labels(fig, window_start, window_end)\n",
    "# fig.show()"
   ]
  },
  {
   "cell_type": "code",
   "execution_count": 10,
   "metadata": {},
   "outputs": [],
   "source": [
    "process_layout_time(target_address, window_start, window_end, title+\" USD\", False)"
   ]
  },
  {
   "cell_type": "code",
   "execution_count": null,
   "metadata": {},
   "outputs": [],
   "source": [
    "process_layout(target_address, window_start, window_end, title)"
   ]
  },
  {
   "attachments": {},
   "cell_type": "markdown",
   "metadata": {},
   "source": [
    "## Michael"
   ]
  },
  {
   "cell_type": "code",
   "execution_count": 12,
   "metadata": {},
   "outputs": [],
   "source": [
    "target_address = '0x7a16ff8270133f063aab6c9977183d9e72835428'\n",
    "# window_start = 15962578 - 420\n",
    "# window_end = 15962578 + 420\n",
    "\n",
    "title = \"Michael\""
   ]
  },
  {
   "cell_type": "code",
   "execution_count": null,
   "metadata": {},
   "outputs": [],
   "source": [
    "process_layout(target_address, window_start, window_end, title)"
   ]
  },
  {
   "cell_type": "code",
   "execution_count": 14,
   "metadata": {},
   "outputs": [],
   "source": [
    "process_layout_time(target_address, window_start, window_end, title+\" USD\", False)"
   ]
  },
  {
   "cell_type": "code",
   "execution_count": null,
   "metadata": {},
   "outputs": [],
   "source": [
    "process_layout(target_address, window_start, window_end, title)"
   ]
  },
  {
   "cell_type": "code",
   "execution_count": null,
   "metadata": {},
   "outputs": [],
   "source": [
    "((16025650 - 16025280) * 12) /60"
   ]
  },
  {
   "cell_type": "code",
   "execution_count": 17,
   "metadata": {},
   "outputs": [],
   "source": [
    "# window_start = 15962578 - 14*(7200)\n",
    "# window_end = 16027236 + 2*(7200)\n",
    "\n",
    "crv_address = oracle_feeds['CRV'].lower()\n",
    "dai_address = oracle_feeds['DAI'].lower()\n",
    "\n",
    "oracles = fs.apply_window('oracles', window_start, window_end)\n",
    "oracle_set = oracles[oracles[\"feed_address\"].isin([dai_address, crv_address])]\n"
   ]
  },
  {
   "cell_type": "code",
   "execution_count": 55,
   "metadata": {},
   "outputs": [],
   "source": [
    "def process_oracle_adj(\n",
    "        target, \n",
    "        target_oracle_address, \n",
    "        dai_oracle_address = '0x773616E4d11A78F511299002da57A0a94577F1f4'.lower()\n",
    "    ):\n",
    "    block_records = {\n",
    "        'block_number': [], \n",
    "        f\"{target}_price\": [], \n",
    "        'dai_price': [], \n",
    "        f\"{target}_priced_in_dai\": [], \n",
    "        'block_timestamp': []\n",
    "        }\n",
    "    for index, row in oracle_set.iterrows():\n",
    "        block_number = row['block_number'] \n",
    "        block_timestamp = row['block_timestamp']\n",
    "        if not row['latest_answer_unadj']:\n",
    "            dai = None\n",
    "            crv = None\n",
    "        elif row['feed_address'] == target_oracle_address:\n",
    "            crv = float(row['latest_answer_unadj']) / 10**18\n",
    "            dai = None\n",
    "        elif row['feed_address'] == dai_oracle_address:\n",
    "            dai = float(row['latest_answer_unadj']) / 10**18\n",
    "            crv = None\n",
    "        else: \n",
    "            dai = None\n",
    "            crv = None\n",
    "        # print (block_records)\n",
    "        # print(block_number)\n",
    "        if crv:\n",
    "            block_records['crv_price'].append(crv)\n",
    "        elif dai:\n",
    "            block_records['dai_price'].append(dai)\n",
    "\n",
    "        if crv or dai:\n",
    "            if len(block_records['block_number']) == 0:\n",
    "                block_records['block_number'].append(block_number)\n",
    "                block_records['block_timestamp'].append(block_timestamp)\n",
    "            elif not block_number == block_records['block_number'][-1]:\n",
    "                block_records['block_number'].append(block_number)\n",
    "                block_records['block_timestamp'].append(block_timestamp)\n",
    "\n",
    "\n",
    "            if len(block_records['crv_price']) == len(block_records['dai_price']) and len(block_records['crv_price']) > 0:\n",
    "                last_crv_price = block_records['crv_price'][-1]\n",
    "                last_dai_price = block_records['dai_price'][-1]\n",
    "                block_records['crv_priced_in_dai'].append(last_crv_price/last_dai_price)\n",
    "    return block_records"
   ]
  },
  {
   "cell_type": "code",
   "execution_count": null,
   "metadata": {},
   "outputs": [],
   "source": [
    "block_records = process_oracle_adj('crv', crv_address, dai_address)\n",
    "print(block_records.keys())\n",
    "\n",
    "for key in block_records.keys():\n",
    "    print(len(block_records[key]))"
   ]
  },
  {
   "cell_type": "code",
   "execution_count": null,
   "metadata": {},
   "outputs": [],
   "source": [
    "price_feed = pd.DataFrame(block_records)\n",
    "\n",
    "price_feed.keys()"
   ]
  },
  {
   "cell_type": "code",
   "execution_count": 62,
   "metadata": {},
   "outputs": [],
   "source": [
    "target_address = '0x57e04786e231af3343562c062e0d058f25dace9e'\n",
    "# window_start = 15962578 - 14*(7200)\n",
    "# window_end = 16027236 + 2*(7200)\n",
    "\n",
    "title = \"Avi\"\n",
    "\n",
    "# target_address = '0x7a16ff8270133f063aab6c9977183d9e72835428'\n",
    "window_start = 16023400 - 420\n",
    "window_end = 17837124 + 420\n",
    "\n",
    "title = \"Michael\"\n",
    "\n",
    "target_address = '0x7a16ff8270133f063aab6c9977183d9e72835428'"
   ]
  },
  {
   "cell_type": "code",
   "execution_count": null,
   "metadata": {},
   "outputs": [],
   "source": [
    "deposits = fs.dataframes['aave_deposits']\n",
    "withdraws = fs.dataframes['aave_withdraws']\n",
    "borrows = fs.dataframes['aave_borrows']\n",
    "repayments = fs.dataframes['aave_repayments']\n",
    "liquidations = fs.dataframes['aave_liquidations']\n",
    "\n",
    "\n",
    "deposits = deposits[deposits['depositor_address']== target_address]\n",
    "withdraws = withdraws[withdraws['depositor_address']== target_address]\n",
    "borrows = borrows[borrows['borrower_address']== target_address]\n",
    "repayments = repayments[repayments['borrower']== target_address]\n",
    "liquidations = liquidations[liquidations['borrower']== target_address]\n",
    "\n",
    "\n",
    "deposits = fs.apply_window_df(deposits, window_start, window_end)\n",
    "withdraws = fs.apply_window_df(withdraws, window_start, window_end)\n",
    "borrows = fs.apply_window_df(borrows, window_start, window_end)\n",
    "repayments = fs.apply_window_df(repayments, window_start, window_end)\n",
    "liquidations = fs.apply_window_df(liquidations, window_start, window_end)\n",
    "deposits\n"
   ]
  },
  {
   "cell_type": "code",
   "execution_count": null,
   "metadata": {},
   "outputs": [],
   "source": [
    "import plotly.graph_objects as go\n",
    "from plotly.subplots import make_subplots\n",
    "\n",
    "\n",
    "fig = make_subplots(specs=[[{\"secondary_y\": True}]])\n",
    "# fig = go.Figure()\n",
    "fig.update_layout(\n",
    "    title=f\"Aave Combined Actions: {title} (USD)\",\n",
    "#     xaxis_title=\"X Axis Title\",\n",
    "#     yaxis_title=\"Y Axis Title\",\n",
    "#     legend_title=\"Legend Title\",\n",
    "    font=dict(\n",
    "        family=\"Courier New, monospace\",\n",
    "        size=18,\n",
    "        color=\"RebeccaPurple\"\n",
    "    )\n",
    ")\n",
    "\n",
    "\n",
    "fig = fig.add_trace(\n",
    "    go.Scatter(\n",
    "        x = deposits.block_timestamp,\n",
    "        y = deposits.supplied_usd, \n",
    "        name = \"Deposited Tokens\",\n",
    "        mode='markers',\n",
    "        marker_color=\"green\",\n",
    "    ),\n",
    "    secondary_y=False\n",
    ")\n",
    "\n",
    "\n",
    "fig = fig.add_trace(\n",
    "    go.Scatter(\n",
    "        x = withdraws.block_timestamp,\n",
    "        y = withdraws.withdrawn_usd, \n",
    "        name = \"Withdrawn Tokens\",\n",
    "        mode='markers',\n",
    "        marker_color=\"blue\"\n",
    "    ),\n",
    "    secondary_y=False\n",
    ")\n",
    "\n",
    "\n",
    "\n",
    "fig = fig.add_trace(\n",
    "    go.Scatter(\n",
    "        x = borrows.block_timestamp,\n",
    "        y = borrows.borrowed_usd, \n",
    "        name = \"Borrowed Tokens\",\n",
    "        mode='markers',\n",
    "        marker_color=\"orange\",\n",
    "    ),\n",
    "    secondary_y=False\n",
    ")\n",
    "\n",
    "fig = fig.add_trace(\n",
    "    go.Scatter(\n",
    "        x=repayments.block_timestamp, \n",
    "        y=repayments.repayed_usd, \n",
    "        name=\"Repayed Tokens\",\n",
    "        mode='markers',\n",
    "        marker_color='black',\n",
    "    ),\n",
    "    secondary_y=False\n",
    ")\n",
    "\n",
    "fig = fig.add_trace(\n",
    "    go.Scatter(\n",
    "        x=liquidations.block_timestamp,\n",
    "        y=liquidations.liquidated_amount_usd,\n",
    "        name=\"Liquidated Collateral\",\n",
    "        mode='markers',\n",
    "        marker_color='red',\n",
    "    ),\n",
    "    secondary_y=False\n",
    ")\n",
    "\n",
    "fig = fig.add_trace(\n",
    "    go.Scatter(\n",
    "        x=liquidations.block_timestamp,\n",
    "        y=liquidations.debt_to_cover_amount_usd,\n",
    "        name=\"Liquidated Debt Covered\",\n",
    "        mode='markers',\n",
    "        marker_color='purple',\n",
    "    ),\n",
    "    secondary_y=False\n",
    ")\n",
    "# fig = fig.add_trace(\n",
    "#     go.Scatter(\n",
    "#         x=price_feed.block_timestamp,\n",
    "#         y=price_feed.crv_priced_in_dai,\n",
    "#         name=\"Curve Price\",\n",
    "#     ),\n",
    "#     secondary_y=True\n",
    "\n",
    "# )\n",
    "\n",
    "# fig.add_vrect(x0=timestamp_windows['avi_initial_deposit'], x1=timestamp_windows['avi_attack_start'], \n",
    "#             annotation_text='Avi Setup', annotation_position=\"top left\",\n",
    "#             fillcolor='orange', opacity=0.25, line_width=0)\n",
    "\n",
    "fig.add_vrect(x0=timestamp_windows['avi_attack_start'], x1=timestamp_windows['avi_initial_liquidation'], \n",
    "            annotation_text='Attack', annotation_position=\"top left\",\n",
    "            fillcolor='blue', opacity=0.25, line_width=0)\n",
    "\n",
    "fig.add_vrect(x0=timestamp_windows['avi_initial_liquidation'], x1=timestamp_windows['avi_last_liquidation'], \n",
    "            annotation_text='Liq', annotation_position=\"top left\",\n",
    "            fillcolor='purple', opacity=0.25, line_width=0)\n",
    "\n",
    "\n",
    "# fig.add_vrect(x0=timestamp_windows['michael_ramp_up'], x1=timestamp_windows['michael_ramp_stop'], \n",
    "#             annotation_text='M Setup', annotation_position=\"top left\",\n",
    "#             fillcolor='blue', opacity=0.25, line_width=0)\n",
    "fig.show()"
   ]
  }
 ],
 "metadata": {
  "kernelspec": {
   "display_name": "cadcad-edu",
   "language": "python",
   "name": "python3"
  },
  "language_info": {
   "codemirror_mode": {
    "name": "ipython",
    "version": 3
   },
   "file_extension": ".py",
   "mimetype": "text/x-python",
   "name": "python",
   "nbconvert_exporter": "python",
   "pygments_lexer": "ipython3",
   "version": "3.8.13"
  },
  "orig_nbformat": 4,
  "vscode": {
   "interpreter": {
    "hash": "c63191c8cb157b7e69336ac914ab189c2c1d5a0eae803b6bc584b8793b3c65d6"
   }
  }
 },
 "nbformat": 4,
 "nbformat_minor": 2
}
