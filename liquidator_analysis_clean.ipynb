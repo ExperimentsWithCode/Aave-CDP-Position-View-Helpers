{
 "cells": [
  {
   "cell_type": "code",
   "execution_count": 1,
   "metadata": {},
   "outputs": [],
   "source": [
    "import plotly.graph_objects as go\n",
    "from plotly.subplots import make_subplots\n",
    "import pandas as pd\n"
   ]
  },
  {
   "cell_type": "code",
   "execution_count": 2,
   "metadata": {},
   "outputs": [],
   "source": [
    "from app.flipside.models import Flipside\n",
    "from app.oracles.models import Oracle\n",
    "from app.constants import (\n",
    "    oracle_feeds_lookup, oracle_feeds, \n",
    "    phase_windows, timestamp_windows,\n",
    "    filenames_filtered\n",
    "    )\n",
    "from app.aave.models import AaveBalancePlotter\n",
    "from app.combo.models import Combo\n",
    "from app.swaps.models import DexSwaps\n",
    "from app.visuals.plotly_helper import combined_action_layout, combined_action_layout_time"
   ]
  },
  {
   "cell_type": "code",
   "execution_count": 3,
   "metadata": {},
   "outputs": [],
   "source": [
    "def fig_helper(fig, a=True, b=True, c=True, d=False):\n",
    "    if a:\n",
    "        fig.add_vrect(x0=timestamp_windows['michael_ramp_up'], x1=timestamp_windows['michael_ramp_stop'], \n",
    "                annotation_text='M: Setup', annotation_position=\"top left\",\n",
    "                fillcolor='blue', opacity=0.25, line_width=0)\n",
    "    if b:\n",
    "        fig.add_vrect(x0=timestamp_windows['avi_initial_deposit'], x1=timestamp_windows['avi_attack_start'], \n",
    "                annotation_text='A: Setup', annotation_position=\"top left\",\n",
    "                fillcolor='orange', opacity=0.25, line_width=0)\n",
    "    if c:\n",
    "        fig.add_vrect(x0=timestamp_windows['avi_attack_start'], x1=timestamp_windows['avi_attack_end'], \n",
    "                    annotation_text='Attack', annotation_position=\"top left\",\n",
    "                    fillcolor='red', opacity=0.25, line_width=0)\n",
    "    if d:\n",
    "        fig.add_vrect(x0=timestamp_windows['avi_initial_liquidation'], x1=timestamp_windows['avi_last_liquidation'], \n",
    "                    annotation_text='A: Liq', annotation_position=\"top left\",\n",
    "                    fillcolor='purple', opacity=0.25, line_width=0)\n",
    "    return fig\n",
    "\n",
    "\n",
    "\n"
   ]
  },
  {
   "cell_type": "code",
   "execution_count": null,
   "metadata": {},
   "outputs": [],
   "source": [
    "fs = Flipside(filenames_filtered)"
   ]
  },
  {
   "cell_type": "code",
   "execution_count": 5,
   "metadata": {},
   "outputs": [],
   "source": [
    "oracles = Oracle(fs, oracle_feeds_lookup)"
   ]
  },
  {
   "cell_type": "code",
   "execution_count": 6,
   "metadata": {},
   "outputs": [],
   "source": [
    "crv_price_feed = pd.DataFrame(oracles.records['CRV'])\n"
   ]
  },
  {
   "cell_type": "code",
   "execution_count": 7,
   "metadata": {},
   "outputs": [],
   "source": [
    "swaps = DexSwaps(fs)\n",
    "\n",
    "volume_hourly = pd.DataFrame(swaps.hourly)\n",
    "volume_daily = pd.DataFrame(swaps.daily)\n"
   ]
  },
  {
   "cell_type": "code",
   "execution_count": 8,
   "metadata": {},
   "outputs": [],
   "source": [
    "aave = AaveBalancePlotter(fs)\n",
    "aave.iterate_through_blocks()"
   ]
  },
  {
   "cell_type": "code",
   "execution_count": 9,
   "metadata": {},
   "outputs": [],
   "source": [
    "target_address = '0x57e04786e231af3343562c062e0d058f25dace9e'\n",
    "window_start = 15900000 - 420\n",
    "window_end = 16027236 + 420\n",
    "\n",
    "title = \"Avi\""
   ]
  },
  {
   "cell_type": "code",
   "execution_count": 10,
   "metadata": {},
   "outputs": [],
   "source": [
    "df_balance_tracker = aave.balance_tracker[aave.balance_tracker[\"ACTOR_ADDRESS\"].isin([target_address])]"
   ]
  },
  {
   "cell_type": "code",
   "execution_count": null,
   "metadata": {},
   "outputs": [],
   "source": [
    "combo = Combo(aave, oracles, target_address)\n",
    "combo.process_value(window_start, window_end)\n",
    "combo.process_sums()\n"
   ]
  },
  {
   "cell_type": "code",
   "execution_count": 12,
   "metadata": {},
   "outputs": [],
   "source": [
    "df_combo_crv = pd.DataFrame(combo.records['CRV'])\n",
    "df_combo_usdc = pd.DataFrame(combo.records['USDC'])"
   ]
  },
  {
   "cell_type": "code",
   "execution_count": null,
   "metadata": {},
   "outputs": [],
   "source": [
    "liq = aave.liquidations\n",
    "liq_filtered = liq.loc[\n",
    "            (liq[\"BLOCK_NUMBER\"] > 16025860 - 50) &\n",
    "            (liq[\"BLOCK_NUMBER\"] < 16027236 + 50)\n",
    "            ]\n",
    "liq_filtered = liq_filtered.sort_values(\"BLOCK_NUMBER\", axis = 0, ascending = True)\n",
    "\n",
    "liq_filtered"
   ]
  },
  {
   "cell_type": "code",
   "execution_count": 14,
   "metadata": {},
   "outputs": [],
   "source": [
    "df_crv_filtered = df_combo_crv.loc[\n",
    "            (df_combo_crv[\"block_number\"] > 16025860 - 50) &\n",
    "            (df_combo_crv[\"block_number\"] < 16025896 + 50)\n",
    "            ]"
   ]
  },
  {
   "cell_type": "code",
   "execution_count": null,
   "metadata": {},
   "outputs": [],
   "source": [
    "df_usdc_filtered = df_combo_usdc.loc[\n",
    "            (df_combo_usdc[\"block_number\"] > 16027007 - 50) &\n",
    "            (df_combo_usdc[\"block_number\"] < 16027236 + 50)\n",
    "            ]\n",
    "df_usdc_filtered"
   ]
  },
  {
   "cell_type": "code",
   "execution_count": null,
   "metadata": {},
   "outputs": [],
   "source": [
    "df_bal_filtered = df_balance_tracker.loc[\n",
    "            (df_balance_tracker[\"BLOCK_NUMBER\"] > 16027007 - 50) &\n",
    "            (df_balance_tracker[\"BLOCK_NUMBER\"] < 16027236 + 50)\n",
    "            ]\n",
    "df_bal_filtered"
   ]
  },
  {
   "cell_type": "code",
   "execution_count": null,
   "metadata": {},
   "outputs": [],
   "source": [
    "d_start = 92000000\n",
    "c_start = 63596139.36\n",
    "\n",
    "data = {\n",
    "    'id': [],\n",
    "    \"block_number\": [],\n",
    "    \"block_timestamp\": [],\n",
    "    \"total_debt\": [],\n",
    "    \"debt_covered\" : [],\n",
    "    \"debt_covered_share\": [],\n",
    "    \"total_collateral\": [],\n",
    "    \"collateral_covered\": [],\n",
    "    \"collateral_covered_share\": [],\n",
    "    \"debt_vs_collateral_share\": [],\n",
    "    \"liquidator\": [],\n",
    "}\n",
    "i = 0\n",
    "current_debt = d_start\n",
    "current_collateral = c_start\n",
    "while i < len(liq_filtered):\n",
    "    debt_covered = float(liq_filtered.iloc[i]['DEBT_TO_COVER_AMOUNT'])\n",
    "    collateral_covered = float(liq_filtered.iloc[i]['LIQUIDATED_AMOUNT'])\n",
    "\n",
    "    block_number = int(liq_filtered.iloc[i]['BLOCK_NUMBER'])\n",
    "    block_timestamp = liq_filtered.iloc[i]['BLOCK_TIMESTAMP']\n",
    "    liquidator = liq_filtered.iloc[i]['LIQUIDATOR']\n",
    "\n",
    "    debt_covered_share = debt_covered / current_debt\n",
    "    collateral_covered_share = collateral_covered / current_collateral\n",
    "    current_debt -= debt_covered\n",
    "    current_collateral -= collateral_covered\n",
    "    data['id'].append(i)\n",
    "    data['block_number'].append(block_number)\n",
    "    data['block_timestamp'].append(block_timestamp)\n",
    "    data['total_debt'].append(current_debt)\n",
    "    data['debt_covered'].append(debt_covered)\n",
    "    data['collateral_covered'].append(collateral_covered)\n",
    "    data['debt_covered_share'].append(debt_covered_share)\n",
    "    data['collateral_covered_share'].append(collateral_covered_share)\n",
    "    data['total_collateral'].append(current_collateral)\n",
    "    data['debt_vs_collateral_share'].append( debt_covered_share - collateral_covered_share )\n",
    "    data['liquidator'].append( liquidator )\n",
    "\n",
    "\n",
    "\n",
    "    i += 1\n",
    "\n",
    "df_processed_liq = pd.DataFrame(data)\n",
    "\n",
    "df_processed_liq"
   ]
  },
  {
   "cell_type": "code",
   "execution_count": null,
   "metadata": {},
   "outputs": [],
   "source": [
    "fig = make_subplots(specs=[[{\"secondary_y\": True}]])\n",
    "# fig = go.Figure()\n",
    "fig.update_layout(\n",
    "    title=f\"Liquidation Impact on Position\",\n",
    "#     xaxis_title=\"X Axis Title\",\n",
    "#     yaxis_title=\"Y Axis Title\",\n",
    "#     legend_title=\"Legend Title\",\n",
    "    font=dict(\n",
    "        family=\"Courier New, monospace\",\n",
    "        size=18,\n",
    "        color=\"RebeccaPurple\"\n",
    "    )\n",
    ")\n",
    "\n",
    "\n",
    "# fig = fig.add_trace(\n",
    "#     go.Scatter(\n",
    "#         x = df_processed_liq.block_timestamp,\n",
    "#         y = df_processed_liq.collateral_covered_share, \n",
    "#         name = \"Percent Collateral Sold\",\n",
    "#         mode='lines',\n",
    "#         marker_color=\"purple\",\n",
    "#     ),\n",
    "#     secondary_y=False\n",
    "# )\n",
    "fig = fig.add_trace(\n",
    "    go.Scatter(\n",
    "        x = df_processed_liq.block_timestamp,\n",
    "        y = df_processed_liq.debt_covered, \n",
    "        name = \"Amount of Debt Covered\",\n",
    "        mode='lines',\n",
    "        marker_color=\"green\",\n",
    "        line_shape='hv'\n",
    "\n",
    "    ),\n",
    "    secondary_y=False\n",
    ")\n",
    "\n",
    "\n",
    "\n",
    "fig = fig.add_trace(\n",
    "    go.Scatter(\n",
    "        x = df_processed_liq.block_timestamp,\n",
    "        y = df_processed_liq.debt_vs_collateral_share, \n",
    "        name = \"Debt % - Collateral %\",\n",
    "        mode='lines+markers',\n",
    "        marker_color=\"red\",\n",
    "        line_shape='hv'\n",
    "\n",
    "    ),\n",
    "    secondary_y=True\n",
    ")\n",
    "\n",
    "\n",
    "fig.add_vrect(x0=timestamp_windows['avi_initial_liquidation'], x1=timestamp_windows['avi_initial_liquidation_end'], \n",
    "            annotation_text='Liq 1', annotation_position=\"top left\",\n",
    "            # fillcolor='purple',\n",
    "            opacity=0.25, line_width=0)\n",
    "\n",
    "fig.add_vrect(x0=timestamp_windows['avi_last_liquidation_start'], x1=timestamp_windows['avi_last_liquidation'], \n",
    "            annotation_text='Liq 2', annotation_position=\"top left\",\n",
    "            # fillcolor='purple', \n",
    "            opacity=0.25, line_width=0)\n",
    "fig.update_yaxes(range=[-0.005,0.005 ], secondary_y=True)  \n",
    "\n",
    "fig.add_hline(y=0, line_width=3, line_dash=\"dash\", line_color=\"grey\", secondary_y=True)\n",
    "\n",
    "fig.show()\n",
    "# fig.update_xaxes(range=[0, 9])\n"
   ]
  },
  {
   "cell_type": "code",
   "execution_count": null,
   "metadata": {},
   "outputs": [],
   "source": [
    "df_processed_liq.sort_values(by=['debt_vs_collateral_share']).tail(60)"
   ]
  },
  {
   "cell_type": "code",
   "execution_count": 48,
   "metadata": {},
   "outputs": [],
   "source": [
    "def write_dataframe_csv(filename, df):\n",
    "    print(cwd+\"/app/data/storage/\"+ filename+'.csv')\n",
    "    try:\n",
    "        full_filename = cwd+\"/app/data/storage/\"+ filename+'.csv'\n",
    "        df.to_csv(full_filename) \n",
    "        return True\n",
    "    except:\n",
    "        return False"
   ]
  },
  {
   "cell_type": "code",
   "execution_count": 49,
   "metadata": {},
   "outputs": [],
   "source": [
    "cwd_temp = os.getcwd()\n",
    "temp_split = cwd_temp.split('/')\n",
    "cwd = \"\"\n",
    "for x in temp_split:\n",
    "    if x == 'experiments':\n",
    "        break\n",
    "    elif x == '':\n",
    "        pass\n",
    "    else:\n",
    "        cwd += \"/\"+x"
   ]
  },
  {
   "cell_type": "code",
   "execution_count": 38,
   "metadata": {},
   "outputs": [],
   "source": [
    "import os"
   ]
  },
  {
   "cell_type": "code",
   "execution_count": null,
   "metadata": {},
   "outputs": [],
   "source": [
    "write_dataframe_csv('liquidation_data', df_processed_liq)"
   ]
  }
 ],
 "metadata": {
  "kernelspec": {
   "display_name": "cadcad-edu",
   "language": "python",
   "name": "python3"
  },
  "language_info": {
   "codemirror_mode": {
    "name": "ipython",
    "version": 3
   },
   "file_extension": ".py",
   "mimetype": "text/x-python",
   "name": "python",
   "nbconvert_exporter": "python",
   "pygments_lexer": "ipython3",
   "version": "3.8.13"
  },
  "orig_nbformat": 4,
  "vscode": {
   "interpreter": {
    "hash": "c63191c8cb157b7e69336ac914ab189c2c1d5a0eae803b6bc584b8793b3c65d6"
   }
  }
 },
 "nbformat": 4,
 "nbformat_minor": 2
}
