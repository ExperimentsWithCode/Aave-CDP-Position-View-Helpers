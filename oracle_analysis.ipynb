{
 "cells": [
  {
   "cell_type": "code",
   "execution_count": 1,
   "metadata": {},
   "outputs": [],
   "source": [
    "import csv\n",
    "import os\n",
    "import json\n",
    "import pandas as pd\n",
    "import plotly.express as px\n",
    "import numpy as np"
   ]
  },
  {
   "cell_type": "code",
   "execution_count": 2,
   "metadata": {},
   "outputs": [],
   "source": [
    "from app.flipside.models import Flipside\n",
    "from app.constants import oracle_feeds_lookup, oracle_feeds, phase_windows, filenames_filtered, timestamp_windows"
   ]
  },
  {
   "cell_type": "code",
   "execution_count": 3,
   "metadata": {},
   "outputs": [],
   "source": [
    "filenames = {    \n",
    "    \"oracles\": \"chainlink_all_oracle_results3\",\n",
    "}\n",
    "\n"
   ]
  },
  {
   "cell_type": "code",
   "execution_count": null,
   "metadata": {},
   "outputs": [],
   "source": [
    "fs = Flipside(filenames)"
   ]
  },
  {
   "cell_type": "code",
   "execution_count": 5,
   "metadata": {},
   "outputs": [],
   "source": [
    "window_start = 14053849 - 10\n",
    "window_end = 16074000 + 10"
   ]
  },
  {
   "cell_type": "code",
   "execution_count": null,
   "metadata": {},
   "outputs": [],
   "source": [
    "oracles = fs.apply_window('oracles', window_start, window_end)\n",
    "print(oracles.keys())\n",
    "oracles.FEED_ADDRESS.unique()"
   ]
  },
  {
   "cell_type": "code",
   "execution_count": 7,
   "metadata": {},
   "outputs": [],
   "source": [
    "crv_address = oracle_feeds['CRV'].lower()\n",
    "dai_address = oracle_feeds['DAI'].lower()\n",
    "\n",
    "oracle_crv = oracles[oracles[\"FEED_ADDRESS\"].isin([crv_address])]\n"
   ]
  },
  {
   "cell_type": "code",
   "execution_count": null,
   "metadata": {},
   "outputs": [],
   "source": [
    "oracle_crv['ADJUSTED_PRICE'] = oracle_crv['LATEST_ANSWER_UNADJ'] / 10**18\n",
    "oracle_crv['REVERSE_PRICE'] = 1/ oracle_crv['ADJUSTED_PRICE']"
   ]
  },
  {
   "cell_type": "code",
   "execution_count": null,
   "metadata": {},
   "outputs": [],
   "source": [
    "oracle_crv['REVERSE_PRICE'].tail()"
   ]
  },
  {
   "cell_type": "code",
   "execution_count": null,
   "metadata": {},
   "outputs": [],
   "source": [
    "fig = px.line(oracle_crv, \n",
    "                 x=oracle_crv.BLOCK_TIMESTAMP,\n",
    "                 y=oracle_crv.ADJUSTED_PRICE,\n",
    "                 color=\"FEED_NAME\",\n",
    "                title=\"CRV/ETH Price\")\n",
    "# fig.update_layout(autotypenumbers='convert types')\n",
    "fig.show()"
   ]
  },
  {
   "cell_type": "code",
   "execution_count": null,
   "metadata": {},
   "outputs": [],
   "source": [
    "fig = px.line(oracle_crv, \n",
    "                 x=oracle_crv.BLOCK_TIMESTAMP,\n",
    "                 y=oracle_crv.REVERSE_PRICE,\n",
    "                 color=\"FEED_NAME\",\n",
    "                title=\"ETH/CRV Price\")\n",
    "# fig.update_layout(autotypenumbers='convert types')\n",
    "fig.add_vrect(x0=timestamp_windows['avi_initial_liquidation'], x1=timestamp_windows['avi_initial_liquidation_end'], \n",
    "            annotation_text='Liquidations', annotation_position=\"top left\",\n",
    "            fillcolor='purple', opacity=0.25, line_width=0)\n",
    "\n",
    "fig.add_vrect(x0=timestamp_windows['avi_last_liquidation_start'], x1=timestamp_windows['avi_last_liquidation'], \n",
    "            annotation_text='', annotation_position=\"top left\",\n",
    "            fillcolor='purple', opacity=0.25, line_width=0)\n",
    "fig.show()"
   ]
  },
  {
   "cell_type": "code",
   "execution_count": null,
   "metadata": {},
   "outputs": [],
   "source": [
    "fs.dataframes['oracles'].FEED_NAME.unique()"
   ]
  },
  {
   "cell_type": "code",
   "execution_count": 13,
   "metadata": {},
   "outputs": [],
   "source": [
    "oracle_set = oracles[oracles[\"FEED_NAME\"].isin(['DAI / ETH'])]\n"
   ]
  },
  {
   "cell_type": "code",
   "execution_count": 14,
   "metadata": {},
   "outputs": [],
   "source": [
    "oracle_set = oracles[oracles[\"FEED_ADDRESS\"].isin([dai_address, crv_address])]\n"
   ]
  },
  {
   "cell_type": "code",
   "execution_count": null,
   "metadata": {},
   "outputs": [],
   "source": [
    "oracle_set.head(20)"
   ]
  },
  {
   "cell_type": "code",
   "execution_count": null,
   "metadata": {},
   "outputs": [],
   "source": [
    "crv_val = oracle_set['LATEST_ANSWER_UNADJ'].loc[oracle_set.index[4517]]\n",
    "dai_val = oracle_set['LATEST_ANSWER_UNADJ'].loc[oracle_set.index[4518]]\n",
    "\n",
    "adj_crv_val = crv_val /10**18\n",
    "adj_dai_val = dai_val /10**18\n",
    "\n",
    "print(adj_crv_val)\n",
    "print(adj_dai_val)\n",
    "# CRV / ETH\n",
    "# ETH / DAI\n",
    "print((adj_crv_val/ adj_dai_val))"
   ]
  },
  {
   "cell_type": "code",
   "execution_count": null,
   "metadata": {},
   "outputs": [],
   "source": [
    "oracle_set['LATEST_ANSWER_UNADJ'].loc[oracle_set.index[4518]]"
   ]
  },
  {
   "cell_type": "code",
   "execution_count": 18,
   "metadata": {},
   "outputs": [],
   "source": [
    "def process_oracle_adj(\n",
    "        target, \n",
    "        target_oracle_address, \n",
    "        dai_oracle_address = '0x773616E4d11A78F511299002da57A0a94577F1f4'.lower()\n",
    "    ):\n",
    "    block_records = {\n",
    "        'block_number': [], \n",
    "        f\"{target}_price\": [], \n",
    "        'dai_price': [], \n",
    "        'eth_price': [],\n",
    "        f\"{target}_priced_in_dai\": [], \n",
    "        'block_timestamp': []\n",
    "        }\n",
    "    for index, row in oracle_set.iterrows():\n",
    "        block_number = row['BLOCK_NUMBER'] \n",
    "        block_timestamp = row['BLOCK_TIMESTAMP']\n",
    "        if row['FEED_ADDRESS'] == target_oracle_address:\n",
    "            crv = row['LATEST_ANSWER_UNADJ'] / 10**18\n",
    "            dai = None\n",
    "        elif row['FEED_ADDRESS'] == dai_oracle_address:\n",
    "            dai = row['LATEST_ANSWER_UNADJ'] / 10**18\n",
    "            crv = None\n",
    "        else: \n",
    "            dai = None\n",
    "            crv = None\n",
    "        # print (block_records)\n",
    "        # print(block_number)\n",
    "        if len(block_records['block_number']) == 0:\n",
    "            block_records['block_number'].append(block_number)\n",
    "            block_records['block_timestamp'].append(block_timestamp)\n",
    "        elif not block_number == block_records['block_number'][-1]:\n",
    "            block_records['block_number'].append(block_number)\n",
    "            block_records['block_timestamp'].append(block_timestamp)\n",
    "\n",
    "        if crv:\n",
    "            block_records[f\"{target}_price\"].append(crv)\n",
    "        elif dai:\n",
    "            block_records['dai_price'].append(dai)\n",
    "            block_records['eth_price'].append(1/dai)\n",
    "\n",
    "        if len(block_records[f\"{target}_price\"]) == len(block_records['dai_price']) and len(block_records[f\"{target}_price\"]) > 0:\n",
    "            last_crv_price = block_records[f\"{target}_price\"][-1]\n",
    "            last_dai_price = block_records['dai_price'][-1]\n",
    "            block_records[f\"{target}_priced_in_dai\"].append(last_crv_price/last_dai_price)\n",
    "    return block_records"
   ]
  },
  {
   "cell_type": "code",
   "execution_count": 19,
   "metadata": {},
   "outputs": [],
   "source": [
    "usd_ref = '0x773616E4d11A78F511299002da57A0a94577F1f4'.lower()\n",
    "\n",
    "class Oracle():\n",
    "    def __init__(self, flipside, oracle_feeds_lookup, \n",
    "                usd_reference_address=usd_ref\n",
    "        ):\n",
    "        self.fs = flipside\n",
    "        self.oracle_feeds_lookup = oracle_feeds_lookup\n",
    "        self.usd_reference_address = usd_reference_address\n",
    "        self.oracles = None\n",
    "        self.records = None\n",
    "        self.process_oracles()\n",
    "\n",
    "\n",
    "    def process_oracles(self):\n",
    "        oracles = fs.dataframes['oracles']\n",
    "        records = {}\n",
    "        for target_address in self.oracle_feeds_lookup:\n",
    "            target = self.oracle_feeds_lookup[target_address]\n",
    "            oracle_set = oracles[oracles[\"FEED_ADDRESS\"].isin([self.usd_reference_address, target_address])]\n",
    "            record = self.process_oracle_helper(oracle_set, target, target_address)\n",
    "            records[target] = record\n",
    "        self.records = records\n",
    "        self.oracles = oracles\n",
    "\n",
    "\n",
    "    def process_oracle_helper(\n",
    "            self,\n",
    "            oracle_set,\n",
    "            target, \n",
    "            target_oracle_address, \n",
    "        ):\n",
    "        block_records = {\n",
    "            'block_number': [], \n",
    "            \"eth_price\": [], \n",
    "            'usd_price_in_eth': [], \n",
    "            \"usd_price\": [], \n",
    "            'block_timestamp': []\n",
    "            }\n",
    "        for index, row in oracle_set.iterrows():\n",
    "            block_number = row['BLOCK_NUMBER'] \n",
    "            block_timestamp = row['BLOCK_TIMESTAMP']\n",
    "            if row['FEED_ADDRESS'] == target_oracle_address:\n",
    "                asset = row['LATEST_ANSWER_UNADJ'] / 10**18\n",
    "                usd = None\n",
    "            elif row['FEED_ADDRESS'] == self.usd_reference_address:\n",
    "                usd = row['LATEST_ANSWER_UNADJ'] / 10**18\n",
    "                asset = None\n",
    "            else: \n",
    "                usd = None\n",
    "                asset = None\n",
    "            # print (block_records)\n",
    "            # print(block_number)\n",
    "            if len(block_records['block_number']) == 0:\n",
    "                block_records['block_number'].append(block_number)\n",
    "                block_records['block_timestamp'].append(block_timestamp)\n",
    "            elif not block_number == block_records['block_number'][-1]:\n",
    "                block_records['block_number'].append(block_number)\n",
    "                block_records['block_timestamp'].append(block_timestamp)\n",
    "\n",
    "            if asset:\n",
    "                block_records['eth_price'].append(asset)\n",
    "            elif usd:\n",
    "                block_records['usd_price_in_eth'].append(usd)\n",
    "\n",
    "            if len(block_records['eth_price']) == len(block_records['usd_price_in_eth']) and len(block_records['eth_price']) > 0:\n",
    "                last_asset_price = block_records['eth_price'][-1]\n",
    "                last_usd_price = block_records['usd_price_in_eth'][-1]\n",
    "                block_records['usd_price'].append(last_asset_price/last_usd_price)\n",
    "        return block_records\n",
    "\n",
    "    def get_price(self, target, block_number, min_id=0):\n",
    "        record = self.records[target]\n",
    "        section = record['block_number'][min_id:len(record)]\n",
    "        i = 0\n",
    "        for b in section:\n",
    "            if b > block_number:\n",
    "                break\n",
    "            i += 1\n",
    "        target_id = min_id + i\n",
    "        return {'eth_price': record[\"eth_price\"][target_id],\n",
    "                'usd_price': record[\"usd_price\"][target_id],\n",
    "                'symbol': target,\n",
    "                'last_id': target_id\n",
    "                }\n"
   ]
  },
  {
   "cell_type": "code",
   "execution_count": 20,
   "metadata": {},
   "outputs": [],
   "source": [
    "oracle = Oracle(fs, oracle_feeds_lookup)"
   ]
  },
  {
   "cell_type": "code",
   "execution_count": null,
   "metadata": {},
   "outputs": [],
   "source": [
    "oracle.get_price('1INCH', 16073841)\n",
    "# oracle.records"
   ]
  },
  {
   "cell_type": "code",
   "execution_count": 22,
   "metadata": {},
   "outputs": [],
   "source": [
    "# for i, r in fs.dataframes['oracles']:\n",
    "#     print(i)"
   ]
  },
  {
   "cell_type": "code",
   "execution_count": 23,
   "metadata": {},
   "outputs": [],
   "source": [
    "block_records = process_oracle_adj('CRV', crv_address, dai_address)"
   ]
  },
  {
   "cell_type": "code",
   "execution_count": null,
   "metadata": {},
   "outputs": [],
   "source": [
    "print(len(block_records['block_number']))\n",
    "print(len(block_records['block_timestamp']))\n",
    "print(len(block_records['dai_price']))\n",
    "print(len(block_records['crv_price']))\n",
    "print(len(block_records['crv_priced_in_dai']))"
   ]
  },
  {
   "cell_type": "code",
   "execution_count": null,
   "metadata": {},
   "outputs": [],
   "source": [
    "# df = pd.DataFrame(oracle.records['CRV'])\n",
    "df = pd.DataFrame(block_records)\n",
    "df"
   ]
  },
  {
   "cell_type": "code",
   "execution_count": null,
   "metadata": {},
   "outputs": [],
   "source": [
    "0.000643/ 0.000888\n",
    "a = [1,2, 3]\n",
    "a.append(4)\n",
    "a[-1]\n",
    "df.keys()\n"
   ]
  },
  {
   "cell_type": "code",
   "execution_count": null,
   "metadata": {},
   "outputs": [],
   "source": [
    "fig = px.line(df, \n",
    "                 x=df.block_timestamp,\n",
    "                 y=df.eth_price,\n",
    "                title=\"ETH/DAI Price\")\n",
    "# fig.update_layout(autotypenumbers='convert types')\n",
    "fig.show()"
   ]
  },
  {
   "cell_type": "code",
   "execution_count": null,
   "metadata": {},
   "outputs": [],
   "source": [
    "fig = px.line(df, \n",
    "                 x=df.block_timestamp,\n",
    "                 y=df.CRV_priced_in_dai,\n",
    "                title=\"CRV/DAI Price\")\n",
    "# fig.update_layout(autotypenumbers='convert types')\n",
    "fig.add_vrect(x0=timestamp_windows['avi_attack_start'], x1=timestamp_windows['avi_attack_end'], \n",
    "            annotation_text='Attack', annotation_position=\"top left\",\n",
    "            fillcolor='red', opacity=0.25, line_width=0)\n",
    "\n",
    "fig.add_vrect(x0=timestamp_windows['avi_initial_liquidation'], x1=timestamp_windows['avi_initial_liquidation_end'], \n",
    "            annotation_text='Liquidations', annotation_position=\"top left\",\n",
    "            fillcolor='purple', opacity=0.25, line_width=0)\n",
    "\n",
    "fig.add_vrect(x0=timestamp_windows['avi_last_liquidation_start'], x1=timestamp_windows['avi_last_liquidation'], \n",
    "            annotation_text='', annotation_position=\"top left\",\n",
    "            fillcolor='purple', opacity=0.25, line_width=0)\n",
    "fig.add_vrect(x0='2022-11-22 13:00:00.000', x1='2022-11-22 13:10:00.000', \n",
    "            annotation_text='LLAMMA', annotation_position=\"top left\",\n",
    "            fillcolor='black', opacity=0.25, line_width=0)\n",
    "fig.show()"
   ]
  },
  {
   "cell_type": "code",
   "execution_count": null,
   "metadata": {},
   "outputs": [],
   "source": [
    "print(0.7239 / 0.4123) # Attack Low to Liquidation High\n",
    "\n",
    "print(0.609 / 0.6004) # Liq 1\n",
    "\n",
    "print( 0.7239 / 0.6028 ) # Liq 2\n"
   ]
  },
  {
   "cell_type": "code",
   "execution_count": null,
   "metadata": {},
   "outputs": [],
   "source": [
    "import plotly.graph_objects as go\n",
    "from plotly.subplots import make_subplots\n",
    "\n",
    "fig = make_subplots(specs=[[{\"secondary_y\": True}]])\n",
    "fig.update_layout(\n",
    "    title=f\"Price Feeds\",\n",
    "#     xaxis_title=\"X Axis Title\",\n",
    "#     yaxis_title=\"Y Axis Title\",\n",
    "#     legend_title=\"Legend Title\",\n",
    "    font=dict(\n",
    "        family=\"Courier New, monospace\",\n",
    "        size=18,\n",
    "        color=\"RebeccaPurple\"\n",
    "    )\n",
    ")\n",
    "# fig = fig.add_trace(\n",
    "#     go.Scatter(\n",
    "#         x=df.block_timestamp,\n",
    "#         y=df.crv_price,\n",
    "#         name=\"CRV/ETH Price\",\n",
    "#         mode='lines',\n",
    "#         marker_color=\"green\",\n",
    "#     ),\n",
    "#     secondary_y=False\n",
    "# )\n",
    "\n",
    "fig = fig.add_trace(\n",
    "    go.Scatter(\n",
    "        x=df.block_timestamp,\n",
    "        y=df.CRV_priced_in_dai,\n",
    "        name=\"CRV/DAI Price\",\n",
    "        mode='lines',\n",
    "        marker_color=\"blue\",\n",
    "    ),\n",
    "    secondary_y=False\n",
    ")\n",
    "\n",
    "fig = fig.add_trace(\n",
    "    go.Scatter(\n",
    "        x=df.block_timestamp,\n",
    "        y=df.eth_price,\n",
    "        name=\"ETH/DAI Price\",\n",
    "        mode='lines',\n",
    "        marker_color=\"red\",\n",
    "    ),\n",
    "    secondary_y=True\n",
    ")\n",
    "\n",
    "\n",
    "fig.add_vrect(x0=timestamp_windows['avi_initial_deposit'], x1=timestamp_windows['avi_attack_start'], \n",
    "            annotation_text='A Setup', annotation_position=\"top left\",\n",
    "            fillcolor='orange', opacity=0.25, line_width=0)\n",
    "\n",
    "fig.add_vrect(x0=timestamp_windows['avi_attack_start'], x1=timestamp_windows['avi_initial_liquidation'], \n",
    "            annotation_text='Attack', annotation_position=\"top left\",\n",
    "            fillcolor='blue', opacity=0.25, line_width=0)\n",
    "\n",
    "fig.add_vrect(x0=timestamp_windows['avi_initial_liquidation'], x1=timestamp_windows['avi_last_liquidation'], \n",
    "            annotation_text='', annotation_position=\"top left\",\n",
    "            fillcolor='purple', opacity=0.25, line_width=0)\n",
    "\n",
    "\n",
    "\n",
    "fig.add_vrect(x0=timestamp_windows['michael_ramp_up'], x1=timestamp_windows['michael_ramp_stop'], \n",
    "            annotation_text='M Setup', annotation_position=\"top left\",\n",
    "            fillcolor='blue', opacity=0.25, line_width=0)\n",
    "\n",
    "# fig.update_xaxes(range=[1.5, 4.5])\n",
    "fig.update_yaxes(range=[0.30, 1.10])\n",
    "fig.update_yaxes(range=[463, 1700], secondary_y=True)\n",
    "\n",
    "fig.show()"
   ]
  },
  {
   "cell_type": "code",
   "execution_count": null,
   "metadata": {},
   "outputs": [],
   "source": [
    "(0.3 / 1.1) * 1700\n"
   ]
  }
 ],
 "metadata": {
  "kernelspec": {
   "display_name": "cadcad-edu",
   "language": "python",
   "name": "python3"
  },
  "language_info": {
   "codemirror_mode": {
    "name": "ipython",
    "version": 3
   },
   "file_extension": ".py",
   "mimetype": "text/x-python",
   "name": "python",
   "nbconvert_exporter": "python",
   "pygments_lexer": "ipython3",
   "version": "3.8.13"
  },
  "orig_nbformat": 4,
  "vscode": {
   "interpreter": {
    "hash": "c63191c8cb157b7e69336ac914ab189c2c1d5a0eae803b6bc584b8793b3c65d6"
   }
  }
 },
 "nbformat": 4,
 "nbformat_minor": 2
}
