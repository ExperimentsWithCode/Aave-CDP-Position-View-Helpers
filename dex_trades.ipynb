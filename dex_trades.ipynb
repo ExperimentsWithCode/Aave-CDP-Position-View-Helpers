{
 "cells": [
  {
   "cell_type": "code",
   "execution_count": 1,
   "metadata": {},
   "outputs": [],
   "source": [
    "import csv\n",
    "import os\n",
    "import json\n",
    "import pandas as pd\n",
    "import plotly.express as px\n",
    "import numpy as np"
   ]
  },
  {
   "cell_type": "code",
   "execution_count": 2,
   "metadata": {},
   "outputs": [],
   "source": [
    "from app.flipside.models import Flipside\n",
    "from app.constants import oracle_feeds_lookup, oracle_feeds, phase_windows, liquidators, attackers, targets, timestamp_windows"
   ]
  },
  {
   "cell_type": "code",
   "execution_count": 3,
   "metadata": {},
   "outputs": [],
   "source": [
    "filenames = {\n",
    "    # \"swaps\": \"ez_dex_swaps_filtered_participants\" ,\n",
    "    \"swaps\": \"ez_dex_swaps_filtered_crv\" \n",
    "\n",
    "}"
   ]
  },
  {
   "cell_type": "code",
   "execution_count": null,
   "metadata": {},
   "outputs": [],
   "source": [
    "fs = Flipside(filenames)"
   ]
  },
  {
   "cell_type": "code",
   "execution_count": 5,
   "metadata": {},
   "outputs": [],
   "source": [
    "window_start = phase_windows[1][0] - 420 # 16025000\n",
    "window_end   = phase_windows[4][1] +420\n",
    "\n",
    "def apply_window(df, window_start=window_start, window_end=window_end):\n",
    "    return df.loc[\n",
    "        (df[\"BLOCK_NUMBER\"] > window_start) & \n",
    "        (df[\"BLOCK_NUMBER\"] < window_end)\n",
    "    ]"
   ]
  },
  {
   "cell_type": "code",
   "execution_count": 6,
   "metadata": {},
   "outputs": [],
   "source": [
    "def chart_it(title, df, x, y, color, facet_col=\"SYMBOL\"):\n",
    "    fig = px.scatter(df, \n",
    "                     x=x,\n",
    "                     y=y,\n",
    "                     color=color,\n",
    "                    title=title,\n",
    "                    facet_col=facet_col,\n",
    ")\n",
    "    fig.update_layout(autotypenumbers='convert types')\n",
    "    fig.show()\n",
    "\n",
    "def fig_append_phase_labels(fig, start = None, end=None):\n",
    "    for window in phase_windows:\n",
    "        if window[0]>= start and window[1]<= end and window[3] != \"\":\n",
    "            fig.add_vrect(x0=window[0], x1=window[1], \n",
    "                        annotation_text=window[2], annotation_position=\"top left\",\n",
    "                        fillcolor=window[3], opacity=0.25, line_width=0)\n",
    "    return fig"
   ]
  },
  {
   "attachments": {},
   "cell_type": "markdown",
   "metadata": {},
   "source": [
    "# SWAPS"
   ]
  },
  {
   "cell_type": "code",
   "execution_count": null,
   "metadata": {},
   "outputs": [],
   "source": [
    "df = fs.dataframes['swaps']\n",
    "print(len(df.ORIGIN_FROM_ADDRESS.unique()))\n",
    "print(len(df.ORIGIN_TO_ADDRESS.unique()))\n",
    "df.head(10)\n",
    "len(df)"
   ]
  },
  {
   "cell_type": "code",
   "execution_count": 8,
   "metadata": {},
   "outputs": [],
   "source": [
    "# df = apply_window(df)\n",
    "df_filtered = df[df.ORIGIN_TO_ADDRESS.isin(liquidators)]"
   ]
  },
  {
   "cell_type": "code",
   "execution_count": null,
   "metadata": {},
   "outputs": [],
   "source": [
    "df_filtered.ORIGIN_FROM_ADDRESS.unique()\n",
    "df.keys()"
   ]
  },
  {
   "cell_type": "code",
   "execution_count": null,
   "metadata": {},
   "outputs": [],
   "source": [
    "fig = px.scatter(df, \n",
    "                 x=df.BLOCK_TIMESTAMP,\n",
    "                 y=df.AMOUNT_IN_USD,\n",
    "                 color=\"ORIGIN_TO_ADDRESS\",\n",
    "                title=\"CRV Swaps by market (USD)\", \n",
    "                facet_col=\"PLATFORM\",\n",
    "                facet_col_wrap=3,\n",
    "                height=700,\n",
    "                )\n",
    "fig.update_layout(autotypenumbers='convert types')\n",
    "# fig = fig_append_phase_labels(fig, window_start, window_end)\n",
    "fig.for_each_annotation(lambda a: a.update(text=a.text.split(\"=\")[-1]))\n",
    "\n",
    "fig.add_vrect(x0=timestamp_windows['avi_initial_liquidation'], x1=timestamp_windows['avi_initial_liquidation_end'], \n",
    "            annotation_text='Liquidations', annotation_position=\"top left\",\n",
    "            fillcolor='purple', opacity=0.25, line_width=0)\n",
    "\n",
    "fig.add_vrect(x0=timestamp_windows['avi_last_liquidation_start'], x1=timestamp_windows['avi_last_liquidation'], \n",
    "            annotation_text='', annotation_position=\"top left\",\n",
    "            fillcolor='purple', opacity=0.25, line_width=0)\n",
    "fig.show()"
   ]
  },
  {
   "cell_type": "code",
   "execution_count": null,
   "metadata": {},
   "outputs": [],
   "source": [
    "ts = df.BLOCK_TIMESTAMP[1]\n",
    "day = ts[0:ts.find(\" \")]\n",
    "hour = ts[ts.find(\" \"): ts.find(\":\")]\n",
    "aggregate_day = f\"{day}{hour}:00:00.000\"\n",
    "print(aggregate_day)\n",
    "print(ts)"
   ]
  },
  {
   "cell_type": "code",
   "execution_count": 12,
   "metadata": {},
   "outputs": [],
   "source": [
    "def process_volume(df, is_hourly=True):\n",
    "\n",
    "    block_records = {\n",
    "        'timestamp': [], \n",
    "        'buy_volume': [], \n",
    "        'sell_volume': [],\n",
    "        'total_volume': [],\n",
    "        'buy_volume_usd': [], \n",
    "        'sell_volume_usd': [],\n",
    "        'total_volume_usd': []\n",
    "        }\n",
    "    last_day = \"\"\n",
    "    last_aggregate = None\n",
    "    for index, row in df.iterrows():\n",
    "\n",
    "        ts = row['BLOCK_TIMESTAMP']\n",
    "        day = ts[0:ts.find(\" \")]\n",
    "        hour = ts[ts.find(\" \"): ts.find(\":\")]\n",
    "        if is_hourly:\n",
    "            aggregate_day = f\"{day}{hour}:59:00.000\"\n",
    "        else:\n",
    "            aggregate_day = f\"{day} 23:59:59.000\"\n",
    "\n",
    "\n",
    "        is_same= False\n",
    "        if day == last_day:\n",
    "            if is_hourly:\n",
    "                if hour == last_hour:\n",
    "                    is_same = True\n",
    "                    last_aggregate = aggregate_day\n",
    "            else:\n",
    "                is_same = True\n",
    "                last_aggregate = aggregate_day              \n",
    "                # print(last_aggregate)\n",
    "\n",
    "\n",
    "        if not is_same:\n",
    "            if last_aggregate == None:\n",
    "                last_aggregate = aggregate_day\n",
    "            else:\n",
    "                block_records['timestamp'].append(last_aggregate)\n",
    "                block_records['buy_volume'].append(buy_volume)\n",
    "                block_records['sell_volume'].append(sell_volume)\n",
    "                block_records['total_volume'].append(buy_volume + sell_volume)\n",
    "                block_records['buy_volume_usd'].append(buy_volume_usd)\n",
    "                block_records['sell_volume_usd'].append(sell_volume_usd)\n",
    "                block_records['total_volume_usd'].append(buy_volume_usd + sell_volume_usd)\n",
    "\n",
    "            last_aggregate = aggregate_day\n",
    "            buy_volume = 0\n",
    "            sell_volume = 0\n",
    "            buy_volume_usd = 0\n",
    "            sell_volume_usd = 0\n",
    "\n",
    "            last_day = day\n",
    "            last_hour = hour\n",
    "\n",
    "        if row['SYMBOL_IN'] == 'CRV':\n",
    "            buy_volume += row['AMOUNT_IN']\n",
    "            buy_volume_usd += row['AMOUNT_IN_USD']\n",
    "        else:\n",
    "            sell_volume += row['AMOUNT_IN']\n",
    "            sell_volume_usd += row['AMOUNT_IN_USD']          \n",
    "    return block_records"
   ]
  },
  {
   "cell_type": "code",
   "execution_count": 13,
   "metadata": {},
   "outputs": [],
   "source": [
    "block_records = process_volume(df)\n",
    "volume_feed = pd.DataFrame(block_records)"
   ]
  },
  {
   "cell_type": "code",
   "execution_count": null,
   "metadata": {},
   "outputs": [],
   "source": [
    "volume_feed.head(25)"
   ]
  },
  {
   "cell_type": "code",
   "execution_count": null,
   "metadata": {},
   "outputs": [],
   "source": [
    "fig = px.bar(volume_feed, \n",
    "                 x=volume_feed.timestamp,\n",
    "                 y=volume_feed.total_volume,\n",
    "                title=\"CRV DEX Swaps Volume Hourly (Tokens)\", \n",
    "\n",
    "                )\n",
    "fig.update_layout(autotypenumbers='convert types')\n",
    "# fig = fig_append_phase_labels(fig, window_start, window_end)\n",
    "fig.for_each_annotation(lambda a: a.update(text=a.text.split(\"=\")[-1]))\n",
    "\n",
    "fig.add_vrect(x0=timestamp_windows['avi_initial_deposit'], x1=timestamp_windows['avi_initial_liquidation'], \n",
    "            annotation_text='Attack', annotation_position=\"top left\",\n",
    "            fillcolor='orange', opacity=0.25, line_width=0)\n",
    "\n",
    "fig.add_vrect(x0=timestamp_windows['avi_initial_liquidation'], x1=timestamp_windows['avi_last_liquidation'], \n",
    "            annotation_text='Liquidation', annotation_position=\"top left\",\n",
    "            fillcolor='purple', opacity=0.25, line_width=0)\n",
    "\n",
    "fig.update_layout(\n",
    "    # title=f\"Aave Combined Actions: {title} (USD)\",\n",
    "#     xaxis_title=\"X Axis Title\",\n",
    "#     yaxis_title=\"Y Axis Title\",\n",
    "#     legend_title=\"Legend Title\",\n",
    "    font=dict(\n",
    "        family=\"Courier New, monospace\",\n",
    "        size=18,\n",
    "        color=\"RebeccaPurple\"\n",
    "    )\n",
    ")\n",
    "\n",
    "fig.show()"
   ]
  },
  {
   "cell_type": "code",
   "execution_count": null,
   "metadata": {},
   "outputs": [],
   "source": [
    "fig = px.bar(volume_feed, \n",
    "                 x=volume_feed.timestamp,\n",
    "                 y=volume_feed.total_volume_usd,\n",
    "                title=\"CRV DEX Swaps Volume Hourly (Tokens)\", \n",
    "\n",
    "                )\n",
    "fig.update_layout(autotypenumbers='convert types')\n",
    "# fig = fig_append_phase_labels(fig, window_start, window_end)\n",
    "fig.for_each_annotation(lambda a: a.update(text=a.text.split(\"=\")[-1]))\n",
    "\n",
    "\n",
    "fig.show()"
   ]
  },
  {
   "cell_type": "code",
   "execution_count": 17,
   "metadata": {},
   "outputs": [],
   "source": [
    "block_records = process_volume(df, False)\n",
    "volume_feed = pd.DataFrame(block_records)"
   ]
  },
  {
   "cell_type": "code",
   "execution_count": null,
   "metadata": {},
   "outputs": [],
   "source": [
    "fig = px.bar(volume_feed, \n",
    "                 x=volume_feed.timestamp,\n",
    "                 y=volume_feed.total_volume,\n",
    "                title=\"CRV DEX Swaps Volume Daily (Tokens)\", \n",
    "\n",
    "                )\n",
    "fig.update_layout(autotypenumbers='convert types')\n",
    "# fig = fig_append_phase_labels(fig, window_start, window_end)\n",
    "fig.for_each_annotation(lambda a: a.update(text=a.text.split(\"=\")[-1]))\n",
    "\n",
    "\n",
    "fig.add_vrect(x0=timestamp_windows['avi_initial_deposit'], x1=timestamp_windows['avi_attack_start'], \n",
    "            annotation_text='Avi Setup', annotation_position=\"top left\",\n",
    "            fillcolor='orange', opacity=0.25, line_width=0)\n",
    "\n",
    "fig.add_vrect(x0=timestamp_windows['avi_attack_start'], x1=timestamp_windows['avi_initial_liquidation'], \n",
    "            annotation_text='Attack', annotation_position=\"top left\",\n",
    "            fillcolor='blue', opacity=0.25, line_width=0)\n",
    "\n",
    "# fig.add_vrect(x0=timestamp_windows['avi_initial_liquidation'], x1=timestamp_windows['avi_last_liquidation'], \n",
    "#             annotation_text='Liq', annotation_position=\"top left\",\n",
    "#             fillcolor='purple', opacity=0.25, line_width=0)\n",
    "\n",
    "\n",
    "fig.add_vrect(x0=timestamp_windows['michael_ramp_up'], x1=timestamp_windows['michael_ramp_stop'], \n",
    "            annotation_text='M Setup', annotation_position=\"top left\",\n",
    "            fillcolor='blue', opacity=0.25, line_width=0)\n",
    "            \n",
    "fig.update_layout(\n",
    "    # title=f\"Aave Combined Actions: {title} (USD)\",\n",
    "#     xaxis_title=\"X Axis Title\",\n",
    "#     yaxis_title=\"Y Axis Title\",\n",
    "#     legend_title=\"Legend Title\",\n",
    "    font=dict(\n",
    "        family=\"Courier New, monospace\",\n",
    "        size=18,\n",
    "        color=\"RebeccaPurple\"\n",
    "    )\n",
    ")\n",
    "\n",
    "fig.show()"
   ]
  },
  {
   "cell_type": "code",
   "execution_count": null,
   "metadata": {},
   "outputs": [],
   "source": [
    "len( [\n",
    "    '0xdfd3bd446f1b7fd96dc995126ee845af0b1254cd',\n",
    "    '0x80d4230c0a68fc59cb264329d3a717fcaa472a13', # Biggest Liquidator\n",
    "    '0x7719494eb8f3ca261f5c806d754853dc5ce2edf7',\n",
    "    '0xd542aa8f1789edf123ad816c1b59ed9fed15c50e',\n",
    "    '0x9bae78d1c67826cde91b20b49690589ed0879fc7',\n",
    "    '0xc37704a457b1ee87eb657cae584a34961e86acac',\n",
    "    '0x1df8ea15bb725e110118f031e8e71b91abaa2a06',\n",
    "    '0x8bc110db7029197c3621bea8092ab1996d5dd7be',\n",
    "    '0xd911560979b78821d7b045c79e36e9cbfc2f6c6f',\n",
    "    '0x45cb6131d548344c7f150d958026fe0923ea86e4',\n",
    "    '0xcda3d75a1a247bf3fa9efd0727db54d7cf0c90c2',\n",
    "    '0x058b10cbe1872ad139b00326686ee8ccef274c58',\n",
    "    '0x6c6b87d44d239b3750bf9badce26a9a0a3d2364e',\n",
    "    '0xe3b9ed955bf1c8c520bb9420abac6e62bb110b29',\n",
    "    '0x0fe269d6d9e04ecc659b6e3d582a7f35ce419e0f',\n",
    "    '0x95ecfcc073f1d768be35839dd27724a0aed78e60',\n",
    "    '0x30be05fe3ed386b8d8afb327b03f50c9d97dcb85',\n",
    "    '0xabcf5d4be599f1c7f71fcbcae4643a2aa849f4c8',\n",
    "    '0xc2a54f74ebbbba5ed92d6a0b5dcb0b0ffb96f36e',\n",
    "    '0x0000000000bb00d4f9ace884c5709edfcf587e1c',\n",
    "    '0x4f381fb46dfde2bc9dcae2d881705749b1ed6e1a',\n",
    "])"
   ]
  }
 ],
 "metadata": {
  "kernelspec": {
   "display_name": "cadcad-edu",
   "language": "python",
   "name": "python3"
  },
  "language_info": {
   "codemirror_mode": {
    "name": "ipython",
    "version": 3
   },
   "file_extension": ".py",
   "mimetype": "text/x-python",
   "name": "python",
   "nbconvert_exporter": "python",
   "pygments_lexer": "ipython3",
   "version": "3.8.13"
  },
  "orig_nbformat": 4,
  "vscode": {
   "interpreter": {
    "hash": "c63191c8cb157b7e69336ac914ab189c2c1d5a0eae803b6bc584b8793b3c65d6"
   }
  }
 },
 "nbformat": 4,
 "nbformat_minor": 2
}
